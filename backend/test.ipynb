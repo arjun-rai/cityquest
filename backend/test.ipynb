{
 "cells": [
  {
   "cell_type": "code",
   "execution_count": 2,
   "metadata": {},
   "outputs": [],
   "source": [
    "import json\n",
    "from openai import OpenAI\n",
    "import instructor\n",
    "import os \n",
    "from pydantic import BaseModel, Field, ValidationError\n",
    "from typing_extensions import List"
   ]
  },
  {
   "cell_type": "code",
   "execution_count": 28,
   "metadata": {},
   "outputs": [],
   "source": [
    "LOCATION = 'dallas'\n",
    "NUMBER_OF_PLACES = 3\n",
    "TRANSPORTATION = 'walking'\n",
    "\n",
    "clientOA = instructor.patch(OpenAI(api_key=os.environ[\"OPENAI_API_KEY\"]))\n",
    "\n",
    "class place(BaseModel):\n",
    "    location: str = Field(description='place in city to visit')\n",
    "    overview: str = Field(description='Overview of the location')\n",
    "    facts: List[str] = Field(description='3 fun facts about the location')\n",
    "\n",
    "class locations(BaseModel):\n",
    "    locations: List[place]=Field(description=\"locations to visit in the city\")\n",
    "\n",
    "locations_to_visit = clientOA.chat.completions.create(\n",
    "            model=\"gpt-4o\",\n",
    "            messages=[{\"role\": \"user\", \"content\": 'create a list of {NUM} locations to visit in the city {CITY} for a scavenger hunt. These locations should all be able to be visited by using the {TRAN} form of transportation in under 3 hours'.format(CITY=LOCATION, NUM=NUMBER_OF_PLACES, TRAN = TRANSPORTATION)}], max_tokens=4096, response_model=locations\n",
    "            )"
   ]
  },
  {
   "cell_type": "code",
   "execution_count": 29,
   "metadata": {},
   "outputs": [
    {
     "data": {
      "text/plain": [
       "{'locations': [{'location': 'Dealey Plaza',\n",
       "   'overview': \"A historic park in downtown Dallas, known as the site of President John F. Kennedy's assassination. The plaza offers a glimpse into the past with its historical markers and the nearby Sixth Floor Museum.\",\n",
       "   'facts': ['Dealey Plaza is a National Historic Landmark.',\n",
       "    \"The infamous 'Grassy Knoll' is located here.\",\n",
       "    'The Sixth Floor Museum is housed in the former Texas School Book Depository.']},\n",
       "  {'location': 'Pioneer Plaza',\n",
       "   'overview': \"A large public park in downtown Dallas, featuring larger-than-life bronze sculptures of a cattle drive, depicting Texas longhorns being driven by cowboys. It's a celebration of the trails that once brought settlers to Texas.\",\n",
       "   'facts': ['Pioneer Plaza is one of the largest bronze monuments in the world.',\n",
       "    'The park features over 40 bronze statues.',\n",
       "    \"It's located near the Dallas Convention Center.\"]},\n",
       "  {'location': 'Dallas Arts District',\n",
       "   'overview': 'A vibrant neighborhood covering 118 acres, the Dallas Arts District is one of the largest urban arts districts in the United States. It hosts numerous museums, performance halls, and architectural marvels.',\n",
       "   'facts': ['The district is home to the Dallas Museum of Art and the Nasher Sculpture Center.',\n",
       "    \"It's designed to be pedestrian-friendly, with many public art installations.\",\n",
       "    'The Winspear Opera House is an iconic building within the district.']}]}"
      ]
     },
     "execution_count": 29,
     "metadata": {},
     "output_type": "execute_result"
    }
   ],
   "source": [
    "locations_to_visit.model_dump()"
   ]
  },
  {
   "cell_type": "code",
   "execution_count": 40,
   "metadata": {},
   "outputs": [],
   "source": [
    "clientOA = instructor.patch(OpenAI(api_key=os.environ[\"OPENAI_API_KEY\"]))\n",
    "\n",
    "\n",
    "class query(BaseModel):\n",
    "    is_location: bool = Field(description=\"is the picture at the location\")\n",
    "\n",
    "response = clientOA.chat.completions.create(\n",
    "    model=\"gpt-4o\",\n",
    "    messages=[\n",
    "        {\n",
    "            \"role\": \"user\",\n",
    "            \"content\": [\n",
    "                {\"type\": \"text\", \"text\": \"Is this the eiffel tower\"},\n",
    "                {\n",
    "                    \"type\": \"image_url\",\n",
    "                    \"image_url\": {\n",
    "                        \"url\": \"https://upload.wikimedia.org/wikipedia/commons/thumb/d/dd/Gfp-wisconsin-madison-the-nature-boardwalk.jpg/2560px-Gfp-wisconsin-madison-the-nature-boardwalk.jpg\",\n",
    "                    },\n",
    "                },\n",
    "            ],\n",
    "        }\n",
    "    ],\n",
    "    max_tokens=300,\n",
    "    response_model=query  # Use the query class here\n",
    ")"
   ]
  },
  {
   "cell_type": "code",
   "execution_count": 41,
   "metadata": {},
   "outputs": [
    {
     "data": {
      "text/plain": [
       "query(is_location=False)"
      ]
     },
     "execution_count": 41,
     "metadata": {},
     "output_type": "execute_result"
    }
   ],
   "source": [
    "response"
   ]
  },
  {
   "cell_type": "code",
   "execution_count": null,
   "metadata": {},
   "outputs": [],
   "source": []
  }
 ],
 "metadata": {
  "kernelspec": {
   "display_name": "Python 3",
   "language": "python",
   "name": "python3"
  },
  "language_info": {
   "codemirror_mode": {
    "name": "ipython",
    "version": 3
   },
   "file_extension": ".py",
   "mimetype": "text/x-python",
   "name": "python",
   "nbconvert_exporter": "python",
   "pygments_lexer": "ipython3",
   "version": "3.10.11"
  }
 },
 "nbformat": 4,
 "nbformat_minor": 2
}
