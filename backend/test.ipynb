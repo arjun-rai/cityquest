{
 "cells": [
  {
   "cell_type": "code",
   "execution_count": 4,
   "metadata": {},
   "outputs": [],
   "source": [
    "import json\n",
    "from openai import OpenAI\n",
    "import instructor\n",
    "import os \n",
    "from pydantic import BaseModel, Field, ValidationError\n",
    "from typing_extensions import List"
   ]
  },
  {
   "cell_type": "code",
   "execution_count": 28,
   "metadata": {},
   "outputs": [],
   "source": [
    "LOCATION = 'dallas'\n",
    "NUMBER_OF_PLACES = 3\n",
    "TRANSPORTATION = 'walking'\n",
    "\n",
    "clientOA = instructor.patch(OpenAI(api_key=os.environ[\"OPENAI_API_KEY\"]))\n",
    "\n",
    "class place(BaseModel):\n",
    "    location: str = Field(description='place in city to visit')\n",
    "    overview: str = Field(description='Overview of the location')\n",
    "    facts: List[str] = Field(description='3 fun facts about the location')\n",
    "\n",
    "class locations(BaseModel):\n",
    "    locations: List[place]=Field(description=\"locations to visit in the city\")\n",
    "\n",
    "locations_to_visit = clientOA.chat.completions.create(\n",
    "            model=\"gpt-4o\",\n",
    "            messages=[{\"role\": \"user\", \"content\": 'create a list of {NUM} locations to visit in the city {CITY} for a scavenger hunt. These locations should all be able to be visited by using the {TRAN} form of transportation in under 3 hours'.format(CITY=LOCATION, NUM=NUMBER_OF_PLACES, TRAN = TRANSPORTATION)}], max_tokens=4096, response_model=locations\n",
    "            )"
   ]
  },
  {
   "cell_type": "code",
   "execution_count": 29,
   "metadata": {},
   "outputs": [
    {
     "data": {
      "text/plain": [
       "{'locations': [{'location': 'Dealey Plaza',\n",
       "   'overview': \"A historic park in downtown Dallas, known as the site of President John F. Kennedy's assassination. The plaza offers a glimpse into the past with its historical markers and the nearby Sixth Floor Museum.\",\n",
       "   'facts': ['Dealey Plaza is a National Historic Landmark.',\n",
       "    \"The infamous 'Grassy Knoll' is located here.\",\n",
       "    'The Sixth Floor Museum is housed in the former Texas School Book Depository.']},\n",
       "  {'location': 'Pioneer Plaza',\n",
       "   'overview': \"A large public park in downtown Dallas, featuring larger-than-life bronze sculptures of a cattle drive, depicting Texas longhorns being driven by cowboys. It's a celebration of the trails that once brought settlers to Texas.\",\n",
       "   'facts': ['Pioneer Plaza is one of the largest bronze monuments in the world.',\n",
       "    'The park features over 40 bronze statues.',\n",
       "    \"It's located near the Dallas Convention Center.\"]},\n",
       "  {'location': 'Dallas Arts District',\n",
       "   'overview': 'A vibrant neighborhood covering 118 acres, the Dallas Arts District is one of the largest urban arts districts in the United States. It hosts numerous museums, performance halls, and architectural marvels.',\n",
       "   'facts': ['The district is home to the Dallas Museum of Art and the Nasher Sculpture Center.',\n",
       "    \"It's designed to be pedestrian-friendly, with many public art installations.\",\n",
       "    'The Winspear Opera House is an iconic building within the district.']}]}"
      ]
     },
     "execution_count": 29,
     "metadata": {},
     "output_type": "execute_result"
    }
   ],
   "source": [
    "locations_to_visit.model_dump()"
   ]
  },
  {
   "cell_type": "code",
   "execution_count": 40,
   "metadata": {},
   "outputs": [],
   "source": [
    "clientOA = instructor.patch(OpenAI(api_key=os.environ[\"OPENAI_API_KEY\"]))\n",
    "\n",
    "\n",
    "\n",
    "\n",
    "response = clientOA.chat.completions.create(\n",
    "    model=\"gpt-4o\",\n",
    "    messages=[\n",
    "        {\n",
    "            \"role\": \"user\",\n",
    "            \"content\": [\n",
    "                {\"type\": \"text\", \"text\": \"Is this the eiffel tower\"},\n",
    "                {\n",
    "                    \"type\": \"image_url\",\n",
    "                    \"image_url\": {\n",
    "                        \"url\": \"https://upload.wikimedia.org/wikipedia/commons/thumb/d/dd/Gfp-wisconsin-madison-the-nature-boardwalk.jpg/2560px-Gfp-wisconsin-madison-the-nature-boardwalk.jpg\",\n",
    "                    },\n",
    "                },\n",
    "            ],\n",
    "        }\n",
    "    ],\n",
    "    max_tokens=300,\n",
    "    response_model=query  # Use the query class here\n",
    ")"
   ]
  },
  {
   "cell_type": "code",
   "execution_count": 41,
   "metadata": {},
   "outputs": [
    {
     "data": {
      "text/plain": [
       "query(is_location=False)"
      ]
     },
     "execution_count": 41,
     "metadata": {},
     "output_type": "execute_result"
    }
   ],
   "source": [
    "response"
   ]
  },
  {
   "cell_type": "code",
   "execution_count": 23,
   "metadata": {},
   "outputs": [],
   "source": [
    "from io import BytesIO\n",
    "import base64\n",
    "import openai"
   ]
  },
  {
   "cell_type": "code",
   "execution_count": 15,
   "metadata": {},
   "outputs": [],
   "source": [
    "clientOA = instructor.patch(OpenAI(api_key=os.environ[\"OPENAI_API_KEY\"]))"
   ]
  },
  {
   "cell_type": "code",
   "execution_count": 36,
   "metadata": {},
   "outputs": [],
   "source": [
    "image_data = '/9j/4AAQSkZJRgABAQAAAQABAAD/4gHYSUNDX1BST0ZJTEUAAQEAAAHIAAAAAAQwAABtbnRyUkdCIFhZWiAH4AABAAEAAAAAAABhY3NwAAAAAAAAAAAAAAAAAAAAAAAAAAAAAAAAAAAAAQAA9tYAAQAAAADTLQAAAAAAAAAAAAAAAAAAAAAAAAAAAAAAAAAAAAAAAAAAAAAAAAAAAAAAAAAAAAAAAAAAAAlkZXNjAAAA8AAAACRyWFlaAAABFAAAABRnWFlaAAABKAAAABRiWFlaAAABPAAAABR3dHB0AAABUAAAABRyVFJDAAABZAAAAChnVFJDAAABZAAAAChiVFJDAAABZAAAAChjcHJ0AAABjAAAADxtbHVjAAAAAAAAAAEAAAAMZW5VUwAAAAgAAAAcAHMAUgBHAEJYWVogAAAAAAAAb6IAADj1AAADkFhZWiAAAAAAAABimQAAt4UAABjaWFlaIAAAAAAAACSgAAAPhAAAts9YWVogAAAAAAAA9tYAAQAAAADTLXBhcmEAAAAAAAQAAAACZmYAAPKnAAANWQAAE9AAAApbAAAAAAAAAABtbHVjAAAAAAAAAAEAAAAMZW5VUwAAACAAAAAcAEcAbwBvAGcAbABlACAASQBuAGMALgAgADIAMAAxADb/2wBDAFA3PEY8MlBGQUZaVVBfeMiCeG5uePWvuZHI////////////////////////////////////////////////////2wBDAVVaWnhpeOuCguv/////////////////////////////////////////////////////////////////////////wAARCAGQASwDASIAAhEBAxEB/8QAGAABAQEBAQAAAAAAAAAAAAAAAAECAwT/xAAwEAEBAAEEAQMDAwIHAAMAAAAAARECITFBElFhcQMigROR8KGxBDJCUlPB8RSC0f/EABYBAQEBAAAAAAAAAAAAAAAAAAABAv/EABkRAQEBAQEBAAAAAAAAAAAAAAARASExAv/aAAwDAQACEQMRAD8A8SooCL0Aii9AlXAAYKZQAACgACKAAAAAIAAAAAAACoAoAAAAAAAiooAABhQCAgAAIoAAAAAAAAAIoCAoIKAAAgoAAAAAAAAAAAAAKgAAAt2QAAAAAAAABFAAAAAAAAAAAAAAAAAAAAXYEUAEU7QQWoovSKgAAAAAAAAAAAqAAAAYAAAAAAAAAAAAAAgKZOQC0OSAAAIoCCgIKAIKAACKCCKIoogCgAgAAAAAAACooIC4BCAC 50ZuMABhdhBAFAyFQAFAAAogKIoAIgAKAAKACC1AAAFRQBF6AAARUAFkAIX2AUyBsIRU2MgvHKAAigJhQARQAAAAAEAFADIAAAAAigAAABQAABAFymQAABTCKAAAAAigAuUQBRRAUEML2VBBRRMCgAAIKAAAAAIoCCoB0gAAAAAKigAAIpgAlQBQAXBgAEUBAUABBVvDKqIKAgpgABFEUVCIoDIqAgAAoCCgAKCB2TkAAAAAIoAY9DsAwuMIAAiqIoAoBgUwCC4MAgooiKCAiisi2AjAAKIoAAAAKIsBOwAAMAsyXnC hx8op7UlxwgqLmrn4ZVFAFRTDUiorJGsROAFkvBF6wCWI1hlQRaCIjSAgqAIoK5gKgACgAAAL/pRZ6IIKAmFDOAWbbovV9yTKKhlb6JhUU5MVrEkub wGNl47SXBm/hFaz6wnpz7m35SZ7QXx7yt07lzZPRqbad9t FGDJ3hFG d2asXxzMgwsjV01nAF9kWZnuuJjIMo0giAA5CiiKAAAAEAWIuUDk7RZN8gKjU2mQS7THaHagZXKLAPKgAKizhFWOkmLPKOUti5B2mJ1wWTPszLcZW6r5XPCDPjL2eHuiz9mhqaM12 noxy46dWK7frSyIN6vpzDjq n6Ru/V2cdeq55Aums2VPK qeVUWzdLDyLqtoiMtWoDGMlkmq4svuS3TczkzloQFBBcFlnM5BFgTioBZfQt3Xqzv5BLLOTo Vv VAk2z0XOC8SIAuUws4BZDMi4tvj21dMknqDI3NM1b3VhjGPcEa28c539E/CIqklt4TKy4VHaz7cy7LtZxvhnRc6bOqdWZ4ZVLPHeUu5dXSKBlUUKZ2EAqNM0RDJhAVDoBmjXhS6LNOWhhYmHbTPpz6d8rfJRjbHuz3lKubjHSBwtuc3EmeodJq2xEDIhkFX/AE1nLcuyBq4nqkx3ldV3xkmrVLLnM AWfT1apbMXBp 23PR5c NposmqW3vINT5zbvb6LJqs265pdemyy3fnfSxp14zmbX2B0ku9syxbMnli5nc22LjPpwBU6a1XiTOzNQQnICtZbl3ze3PglBu8RMreNk8vtxifIBlDIKJk6youUQEAQDOLmbFRQdtEls9Gv8Rjx06cc1NGzP1dcv1OOmvn0cdck1WTOEvw1q1W3K36mqyTbb2b3ajmN VvU/ZMMqsmya5fKt/Smcs23NxeWc9GMGN61k2WDOG9PLOVnKaFm9SZi3mhAxvst029UnK27oJ4e1Xxk5lJS1YJ42dVnf3aXcgm6/N3QQKk2AFxuuNs5nwiZRW9NwcM5azsCCZMqKIAqBmiAboAsQyK7TV7M3T5W20zp/lPKen9VziJ n7n6fyeXvf3XynrS6J meHuvlPf91mqT1/el1Yv05iXDH6V925rk6WfVZujH6V91n0K3 t7r v8F0mOf/x65cWx6r/iPR5dJlHT9HVdz9Gu n68xMrPr6al1Y88 nc7L lh3uvRf/U 3q/1pSOPjJ1F 3vS6besO87FIxL9L/ZWs/R/2Lmey503pBnz l/x1PP6fX02rNN6Yun5A89H/GXX9P8A49zwPH1yomdH xnb/a344Ji7dg5//VPh0ujnGYadO26o5/hHWyM3T7UGKmW7o3S6KDOTK N9ExfQDNM0x7ChmpkABcGFQARQwpgEwYawoM4XCrj3QZweLpj8YJZLvgGZ9O/hqfTh5794L9SfHynRfDbgxiZx8H6mMe6zVP8ALjG6KkvUm6y7pq nZZdK7a9Wc4qjpPfDUmlzmrG1WarOc7 iQdZpXxZ88d7VfOIq J4p5HkgYc9f0pZtMN WS29KMadGrTdtWZerFszxyvlU8vWKM6pnrLGqbfDWZOIxq14uMURPbCZ7Z8kVGrdjPuyijVT8oAqGEAAUFEyCqzlQVrhmbmfdBq3HNJUWeuAaztjKSRJfWcGbd6itYzvq/sWSXNxfZnOxqtmJ/YRMY41We3KS41bz9jN6uWt/G3f9lG/LbEufdm7atv60 72rOYDp5d3OflbbicY9MuXBnHERXSausmnVtZcsabmxbjPO4Os1 6 WY4y4Wau CDr3mWnlZs5 UM 6Dpndm25YyuaQMpTKKFjNjQIxZgw1UqiYTDSAmBTcGRMLhRFFknNuAQu0XPogNT3M/wBUyZQW7XZWcnINZS6tsxOKS5Amr1XObsmCQDZvRLc2WbbpNtu6TILc9zDN5uF3ifALk QxYCdredgs3BMWbVSQs/YDkOIucgkuN1l6ymJuSg1b6HPsumZuMs/lA3PJZZ2t054mQZyVOFlzzyCbDWEFTCYrVSiMAjQuUAAXCghaZRBZTKLIAoALpRqSTfIHXLUkkzS8m05l2RUxbwWW5z0b5t6NMzQMTv0N5Ftlzmbk3lBPVPe4q2Z1bJkRvy 2yzfpMZm/Psk0XNxcYM2XPIJZi7nFXVv0m3YF EbmLOGbdwWXck46Ji79n rPUUWbTNz FmrG14Zs3znYzn8g3qmnb073Ys7n VcY72Z8bjM4Br0ykmPgtts/8Tyxd8oNWJttklvOzU1SzeiuAt5JPVpDTLquFxhrTZpucS/KW5ub2CJat2 UQMYBZPK wGmZreF4nCIqVnDeEsEZ4qy0wijWdsLLb0wunyztcIOmu504yz Wsbb9S7M2y8S 4qflZcXklku/CyT/APAM4s34Z1SZ2XHpUkwIS3T3d2tNmq4xPybbW3F ExgVqzGNmLMc1vNs3Z1abyC6bJ1mZ4S4u8TvdreXvcRnC6eSzFSwGuLjmVPHa2W/CzeYP8t34UXTL457MS7cX0wubxp7XTp8pc3Gr3Bz1Szn/wBS4vftu3q8ptqn5wxd9 wTGJd8X5PL2l UamMbgzjtUwSXOJVF/ulvj70urG2n90nCBF/r/wBpnKze 4EltxHXTpkmDRp0zT70t6RUAATCoCWIoCVqavHTj VnkEM3tZuZxTN Kos3vrgxvnprTMpNptnlFSS23Cz3yS8wvU7Alxm4m6y3GJP6bs4y15YkxjEBd5x yW2bW/u1L1vnpmzba5oJd/ZMe66pdPJALjGe4lm/UakxE1QGd8Zjcssx0wuLp39VR003xtuMxdMl1TFx8s6bLLn0LtNt88ewrtq028yX4cNWmZuOOt3TTrnji8pqkmrynHvBHG4vyY/mWrc5mJ8xnPvQTGeOPVNWqcaTVqztOE6Ah/KY9 DH89AP58NaJObfiGjRNVzeP7rr0SbSbg1MdLg0fbpwuUVON0t7LzkgJxDnlcGMdAiVQGV2VLwBNujO/CLhUWatvyudmJysqKs324Xf Qnyt22wCWTJn7dot8Z7peedvUGpfTnHNXMtzjdnM9Vxtn2BL91zjes4blu2 JLhbJZiap YDEuze15YzzthqcAxdOCeno3ZbPhnGKqI3pxZKXVnTzn2SSb4zkVvV928jMzjFWX7Zm7pxaglx16JNs7Lftu5iTjdUcf58ref 18dWT9O wM/yRZM3Fu3dLpvliXNdJ9OSb7gnlbtpmJ6tadOM3m qrKipjfhLcZat9GcAb7GF/uZBn1TlogJgW8J1AEq3ggM3K5tm/RgkBLhrTjG8TokwC 2IYXaWG1t6BJnGJMmbVl9f3M85BMb3pvRPum /wDZna30yuna53x6gls8tu2tPtymufdmcX2W7arJ 4J1xwZzd U 7rtq4m OfYGtNxdk1SartMf9pLi29Lp1Zl3uQYxjsuL6/utxayou MdNy3GMZ Yx1yby5Qb1SSeWPbDM42x 2Wri6bYx4XqA/9k='"
   ]
  },
  {
   "cell_type": "code",
   "execution_count": 42,
   "metadata": {},
   "outputs": [],
   "source": [
    "image_data_real = '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'"
   ]
  },
  {
   "cell_type": "code",
   "execution_count": 39,
   "metadata": {},
   "outputs": [],
   "source": [
    "while len(image_data) % 4 != 0:\n",
    "    image_data += '='"
   ]
  },
  {
   "cell_type": "code",
   "execution_count": 41,
   "metadata": {},
   "outputs": [
    {
     "data": {
      "text/plain": [
       "'/9j/4AAQSkZJRgABAQAAAQABAAD/4gHYSUNDX1BST0ZJTEUAAQEAAAHIAAAAAAQwAABtbnRyUkdCIFhZWiAH4AABAAEAAAAAAABhY3NwAAAAAAAAAAAAAAAAAAAAAAAAAAAAAAAAAAAAAQAA9tYAAQAAAADTLQAAAAAAAAAAAAAAAAAAAAAAAAAAAAAAAAAAAAAAAAAAAAAAAAAAAAAAAAAAAAAAAAAAAAlkZXNjAAAA8AAAACRyWFlaAAABFAAAABRnWFlaAAABKAAAABRiWFlaAAABPAAAABR3dHB0AAABUAAAABRyVFJDAAABZAAAAChnVFJDAAABZAAAAChiVFJDAAABZAAAAChjcHJ0AAABjAAAADxtbHVjAAAAAAAAAAEAAAAMZW5VUwAAAAgAAAAcAHMAUgBHAEJYWVogAAAAAAAAb6IAADj1AAADkFhZWiAAAAAAAABimQAAt4UAABjaWFlaIAAAAAAAACSgAAAPhAAAts9YWVogAAAAAAAA9tYAAQAAAADTLXBhcmEAAAAAAAQAAAACZmYAAPKnAAANWQAAE9AAAApbAAAAAAAAAABtbHVjAAAAAAAAAAEAAAAMZW5VUwAAACAAAAAcAEcAbwBvAGcAbABlACAASQBuAGMALgAgADIAMAAxADb/2wBDAFA3PEY8MlBGQUZaVVBfeMiCeG5uePWvuZHI////////////////////////////////////////////////////2wBDAVVaWnhpeOuCguv/////////////////////////////////////////////////////////////////////////wAARCAGQASwDASIAAhEBAxEB/8QAGAABAQEBAQAAAAAAAAAAAAAAAAECAwT/xAAwEAEBAAEEAQMDAwIHAAMAAAAAARECITFBElFhcQMigROR8KGxBDJCUlPB8RSC0f/EABYBAQEBAAAAAAAAAAAAAAAAAAABAv/EABkRAQEBAQEBAAAAAAAAAAAAAAARASExAv/aAAwDAQACEQMRAD8A8SooCL0Aii9AlXAAYKZQAACgACKAAAAAIAAAAAAACoAoAAAAAAAiooAABhQCAgAAIoAAAAAAAAAIoCAoIKAAAgoAAAAAAAAAAAAAKgAAAt2QAAAAAAAABFAAAAAAAAAAAAAAAAAAAAXYEUAEU7QQWoovSKgAAAAAAAAAAAqAAAAYAAAAAAAAAAAAAAgKZOQC0OSAAAIoCCgIKAIKAACKCCKIoogCgAgAAAAAAACooIC4BCAC 50ZuMABhdhBAFAyFQAFAAAogKIoAIgAKAAKACC1AAAFRQBF6AAARUAFkAIX2AUyBsIRU2MgvHKAAigJhQARQAAAAAEAFADIAAAAAigAAABQAABAFymQAABTCKAAAAAigAuUQBRRAUEML2VBBRRMCgAAIKAAAAAIoCCoB0gAAAAAKigAAIpgAlQBQAXBgAEUBAUABBVvDKqIKAgpgABFEUVCIoDIqAgAAoCCgAKCB2TkAAAAAIoAY9DsAwuMIAAiqIoAoBgUwCC4MAgooiKCAiisi2AjAAKIoAAAAKIsBOwAAMAsyXnC hx8op7UlxwgqLmrn4ZVFAFRTDUiorJGsROAFkvBF6wCWI1hlQRaCIjSAgqAIoK5gKgACgAAAL/pRZ6IIKAmFDOAWbbovV9yTKKhlb6JhUU5MVrEkub wGNl47SXBm/hFaz6wnpz7m35SZ7QXx7yt07lzZPRqbad9t FGDJ3hFG d2asXxzMgwsjV01nAF9kWZnuuJjIMo0giAA5CiiKAAAAEAWIuUDk7RZN8gKjU2mQS7THaHagZXKLAPKgAKizhFWOkmLPKOUti5B2mJ1wWTPszLcZW6r5XPCDPjL2eHuiz9mhqaM12 noxy46dWK7frSyIN6vpzDjq n6Ru/V2cdeq55Aums2VPK qeVUWzdLDyLqtoiMtWoDGMlkmq4svuS3TczkzloQFBBcFlnM5BFgTioBZfQt3Xqzv5BLLOTo Vv VAk2z0XOC8SIAuUws4BZDMi4tvj21dMknqDI3NM1b3VhjGPcEa28c539E/CIqklt4TKy4VHaz7cy7LtZxvhnRc6bOqdWZ4ZVLPHeUu5dXSKBlUUKZ2EAqNM0RDJhAVDoBmjXhS6LNOWhhYmHbTPpz6d8rfJRjbHuz3lKubjHSBwtuc3EmeodJq2xEDIhkFX/AE1nLcuyBq4nqkx3ldV3xkmrVLLnM AWfT1apbMXBp 23PR5c NposmqW3vINT5zbvb6LJqs265pdemyy3fnfSxp14zmbX2B0ku9syxbMnli5nc22LjPpwBU6a1XiTOzNQQnICtZbl3ze3PglBu8RMreNk8vtxifIBlDIKJk6youUQEAQDOLmbFRQdtEls9Gv8Rjx06cc1NGzP1dcv1OOmvn0cdck1WTOEvw1q1W3K36mqyTbb2b3ajmN VvU/ZMMqsmya5fKt/Smcs23NxeWc9GMGN61k2WDOG9PLOVnKaFm9SZi3mhAxvst029UnK27oJ4e1Xxk5lJS1YJ42dVnf3aXcgm6/N3QQKk2AFxuuNs5nwiZRW9NwcM5azsCCZMqKIAqBmiAboAsQyK7TV7M3T5W20zp/lPKen9VziJ n7n6fyeXvf3XynrS6J meHuvlPf91mqT1/el1Yv05iXDH6V925rk6WfVZujH6V91n0K3 t7r v8F0mOf/x65cWx6r/iPR5dJlHT9HVdz9Gu n68xMrPr6al1Y88 nc7L lh3uvRf/U 3q/1pSOPjJ1F 3vS6besO87FIxL9L/ZWs/R/2Lmey503pBnz l/x1PP6fX02rNN6Yun5A89H/GXX9P8A49zwPH1yomdH xnb/a344Ji7dg5//VPh0ujnGYadO26o5/hHWyM3T7UGKmW7o3S6KDOTK N9ExfQDNM0x7ChmpkABcGFQARQwpgEwYawoM4XCrj3QZweLpj8YJZLvgGZ9O/hqfTh5794L9SfHynRfDbgxiZx8H6mMe6zVP8ALjG6KkvUm6y7pq nZZdK7a9Wc4qjpPfDUmlzmrG1WarOc7 iQdZpXxZ88d7VfOIq J4p5HkgYc9f0pZtMN WS29KMadGrTdtWZerFszxyvlU8vWKM6pnrLGqbfDWZOIxq14uMURPbCZ7Z8kVGrdjPuyijVT8oAqGEAAUFEyCqzlQVrhmbmfdBq3HNJUWeuAaztjKSRJfWcGbd6itYzvq/sWSXNxfZnOxqtmJ/YRMY41We3KS41bz9jN6uWt/G3f9lG/LbEufdm7atv60 72rOYDp5d3OflbbicY9MuXBnHERXSausmnVtZcsabmxbjPO4Os1 6 WY4y4Wau CDr3mWnlZs5 UM 6Dpndm25YyuaQMpTKKFjNjQIxZgw1UqiYTDSAmBTcGRMLhRFFknNuAQu0XPogNT3M/wBUyZQW7XZWcnINZS6tsxOKS5Amr1XObsmCQDZvRLc2WbbpNtu6TILc9zDN5uF3ifALk QxYCdredgs3BMWbVSQs/YDkOIucgkuN1l6ymJuSg1b6HPsumZuMs/lA3PJZZ2t054mQZyVOFlzzyCbDWEFTCYrVSiMAjQuUAAXCghaZRBZTKLIAoALpRqSTfIHXLUkkzS8m05l2RUxbwWW5z0b5t6NMzQMTv0N5Ftlzmbk3lBPVPe4q2Z1bJkRvy 2yzfpMZm/Psk0XNxcYM2XPIJZi7nFXVv0m3YF EbmLOGbdwWXck46Ji79n rPUUWbTNz FmrG14Zs3znYzn8g3qmnb073Ys7n VcY72Z8bjM4Br0ykmPgtts/8Tyxd8oNWJttklvOzU1SzeiuAt5JPVpDTLquFxhrTZpucS/KW5ub2CJat2 UQMYBZPK wGmZreF4nCIqVnDeEsEZ4qy0wijWdsLLb0wunyztcIOmu504yz Wsbb9S7M2y8S 4qflZcXklku/CyT/APAM4s34Z1SZ2XHpUkwIS3T3d2tNmq4xPybbW3F ExgVqzGNmLMc1vNs3Z1abyC6bJ1mZ4S4u8TvdreXvcRnC6eSzFSwGuLjmVPHa2W/CzeYP8t34UXTL457MS7cX0wubxp7XTp8pc3Gr3Bz1Szn/wBS4vftu3q8ptqn5wxd9 wTGJd8X5PL2l UamMbgzjtUwSXOJVF/ulvj70urG2n90nCBF/r/wBpnKze 4EltxHXTpkmDRp0zT70t6RUAATCoCWIoCVqavHTj VnkEM3tZuZxTN Kos3vrgxvnprTMpNptnlFSS23Cz3yS8wvU7Alxm4m6y3GJP6bs4y15YkxjEBd5x yW2bW/u1L1vnpmzba5oJd/ZMe66pdPJALjGe4lm/UakxE1QGd8Zjcssx0wuLp39VR003xtuMxdMl1TFx8s6bLLn0LtNt88ewrtq028yX4cNWmZuOOt3TTrnji8pqkmrynHvBHG4vyY/mWrc5mJ8xnPvQTGeOPVNWqcaTVqztOE6Ah/KY9 DH89AP58NaJObfiGjRNVzeP7rr0SbSbg1MdLg0fbpwuUVON0t7LzkgJxDnlcGMdAiVQGV2VLwBNujO/CLhUWatvyudmJysqKs324Xf Qnyt22wCWTJn7dot8Z7peedvUGpfTnHNXMtzjdnM9Vxtn2BL91zjes4blu2 JLhbJZiap YDEuze15YzzthqcAxdOCeno3ZbPhnGKqI3pxZKXVnTzn2SSb4zkVvV928jMzjFWX7Zm7pxaglx16JNs7Lftu5iTjdUcf58ref 18dWT9O wM/yRZM3Fu3dLpvliXNdJ9OSb7gnlbtpmJ6tadOM3m qrKipjfhLcZat9GcAb7GF/uZBn1TlogJgW8J1AEq3ggM3K5tm/RgkBLhrTjG8TokwC 2IYXaWG1t6BJnGJMmbVl9f3M85BMb3pvRPum /wDZna30yuna53x6gls8tu2tPtymufdmcX2W7arJ 4J1xwZzd U 7rtq4m OfYGtNxdk1SartMf9pLi29Lp1Zl3uQYxjsuL6/utxayou MdNy3GMZ Yx1yby5Qb1SSeWPbDM42x 2Wri6bYx4XqA/9k='"
      ]
     },
     "execution_count": 41,
     "metadata": {},
     "output_type": "execute_result"
    }
   ],
   "source": [
    "image_data"
   ]
  },
  {
   "cell_type": "code",
   "execution_count": 43,
   "metadata": {},
   "outputs": [
    {
     "data": {
      "text/plain": [
       "'/9j/4AAQSkZJRgABAQAAAQABAAD/4gHYSUNDX1BST0ZJTEUAAQEAAAHIAAAAAAQwAABtbnRyUkdCIFhZWiAH4AABAAEAAAAAAABhY3NwAAAAAAAAAAAAAAAAAAAAAAAAAAAAAAAAAAAAAQAA9tYAAQAAAADTLQAAAAAAAAAAAAAAAAAAAAAAAAAAAAAAAAAAAAAAAAAAAAAAAAAAAAAAAAAAAAAAAAAAAAlkZXNjAAAA8AAAACRyWFlaAAABFAAAABRnWFlaAAABKAAAABRiWFlaAAABPAAAABR3dHB0AAABUAAAABRyVFJDAAABZAAAAChnVFJDAAABZAAAAChiVFJDAAABZAAAAChjcHJ0AAABjAAAADxtbHVjAAAAAAAAAAEAAAAMZW5VUwAAAAgAAAAcAHMAUgBHAEJYWVogAAAAAAAAb6IAADj1AAADkFhZWiAAAAAAAABimQAAt4UAABjaWFlaIAAAAAAAACSgAAAPhAAAts9YWVogAAAAAAAA9tYAAQAAAADTLXBhcmEAAAAAAAQAAAACZmYAAPKnAAANWQAAE9AAAApbAAAAAAAAAABtbHVjAAAAAAAAAAEAAAAMZW5VUwAAACAAAAAcAEcAbwBvAGcAbABlACAASQBuAGMALgAgADIAMAAxADb/2wBDAFA3PEY8MlBGQUZaVVBfeMiCeG5uePWvuZHI////////////////////////////////////////////////////2wBDAVVaWnhpeOuCguv/////////////////////////////////////////////////////////////////////////wAARCAGQASwDASIAAhEBAxEB/8QAGQABAQEBAQEAAAAAAAAAAAAAAAECBAMF/8QAMBABAQABAwIFAgYCAwADAAAAAAERAiExA0EyM1FxgRJhBBNCkaGxIsFS0fAjYuH/xAAVAQEBAAAAAAAAAAAAAAAAAAAAAf/EABURAQEAAAAAAAAAAAAAAAAAAAAB/9oADAMBAAIRAxEAPwDQCKAAAAKAAAAKCCgIKAgAAAJdOm8yX4ZvT0X9MbAeV6Oj0T8jT616gjwv4f01fwzfw+rtY6QHLejr+yfla/8Ai6hRx3Tqn6b+yOwwDjHVdGm/piXp6PQHMOi9HR94xq6Wmfqx7g8h6fk3tZXnZZcUAAHcAigKAAAAAoAAAAAAAAAgoCAAIoCAAIqAIoCACDw6/ij3Z1aJq5gPHpbdTbhOt43rp6enTczLy63jUYAB3AqKAAAoAAAKCCgAAAAAAIKAgAIKAgAIKgIKgCKAgAiOfreN0ubreNRgAHeAipq202z0XH3pq8N9lBMX1/g3+yqCTP2N/SfuoCW47KXgAFARQAAAABBQEABBUARQEABAAQVAQVAHN1vG6XP1vGqPMAHeCoqXirOC8E4gJdGnVc2LJZt27FmfUxZ9wUFBLwpeAAFBBQEFAQVNs47gJdo0gJM43Fll4AQAEFQBFARFARFAQAEc/W8fw6HP1/M+FR5gA+gCoqGnwz2VNPhnsC2S88JJjabLdO+ZcUxe9/YFCSThQS8VUvhqgAACgIABeNk+mYwqXnGfgCZ7lme+yzgvvgEsElt9LGgRFARMql54oGfc5mTMu39qCIt23qcgIoCIqAObr+Z8OlzdfzPhUeYAPoKCKGnwz2VNPhnsC2ZmDG5biffsm+nm5nqDQAGrw32DV4b7LOAEmqXhblJO2MScAt2OS8JN7mbAoWZTFnsCs/45x3aZuM79gaZ1YxvMtYxwAzLmKll7KCCpmUBm2XbOK0l43gJLO1yoAzq/j1ZmJnE/eYbvsmd+KByACAAjm6/mfDpc3X8z4EeYCj6IKihp4gaeIBjfKpZni4qWfTM5t3zuDUmNuypM53sx7KCavBfZZwmrw32UAz9u6s3Vi2YoNJLnsS5kuMJNVvagtgpgBnO+MX3W7wAABnTnPMwpM+uQBmYz6W+rVmSzIIlu8k5UmM319gSXPuFmQBN8rbJym/cBFQBFQEc3X8z4dTl6/mfAjzAUfRUEUNPhipp8IKzNUu1mJW0+mXmbAoktzjOnMaBLxVCcQAxvkAAALjG/DGZvM5k/hsBJjGxbjtaqatU03cDkXADMum3ZUk+3HCgl2jP05+38tWZSSac2AvZiyZ8OWpfq7wBLpmxwY/yzsoM6rjfBLmKmq4mQEXsgCKxq16dPiuAacvX8z4e816de2m7vDr+Z8CPMBR9IBFVNHhipo8MBozM4Ev02ybZBfplucKkknEUBNPhns0zo8vT7QFFAAAEUBEll9/RTbkBLM4VNW2mgcdxiW7753+zYDF1XOLou/t/22zPqtubeQWccYZ1en02+zXbdnX2v+8As47/Imm3vpvvsoDOd60zvneT9wATADn68zrmfR735eHXzdUkEZ6Ux1Z7J1/MXo5/N35TrXPUUeYAPpAIqpo8MU08AqfTM2+qpqnFnM+4LJjhQBWen5en2jTOjbRp9oDQAAAAACWZwqWfcDEl2DiAM5/8Arceq5yl8Xf4qzje79wE3z9lSyXsB7pq0zVy0zZnvYBJgVASzPewWvOf5Y7/+/wDegNJbM87+i9gGdXbn4eH4jxz2dF3eHXuNem/YRjo3PUzfROv5nw10cfm7ejPX8z4UeYAPpAIqmngNPHyCpbq4k3Ulz9gTNmfXM2a023OfgxvkBUnEVJwCgAAAAAJc9lS7gYzyEmAEumauZL7xLn6vT4XVqxZt/BO99QEzjG+Vec6dmq5xjGNgb+qXiypZLZc7rJiYzlNWObn4BNrtblZMcJPp2kxPSYUBnjOMZ7tM3ezElgKioCOfr+Oezpc34jxz2IidGf8Ay/DPX8xrozHUx9metMa8fZR5gA+kIqKqaeL71U0cX3oNEue1EmiS5nINZmMiaNtMigrOnj5v9tM6OL73+waAAAAAATVcbTmqnfAJNtr+6nPMwAlz2x8wlz2wlk1YvbDQIzq9e3vhpLntj5Am++dqM76d7JPlrfH3BmXP+Nsvrmcqkl3zJP5/6JbbQVn6fS2ezQDGN9lVAHN+I8c9nS5vxHjnsInQtvU39Gev5jXQ8z4Z6/mVR5gA+kIqKqaePmqTv7gqauM4zZ2U+QSSXf6eWozNNne/LQCaPDfe/wB1WdHhvvf7oNKgCiAKIoIWS8iWb5lx6gTVNpx6ZUAT6ZnKpeGdMlt3354xQaTVbJbJlU1WSb2T70E04v8Alj5WzbE29ie+wDM1+s1ftVnCSWd6oDOLnlpnVN/FZ7T/APAVFQBzdfH1zPo6HP15nqSZ7CHRx+ZcejHX8ytdCY6l9met5lUeYAPoqioqpOb7qmnnV7/6Bosl5AD6Z9/3Z1W6eNp6tfVM4yk0yXM7g1Lszo8Pzf7rSaePm/2CgAAAAAFuJkAZxi/VLt/bSfTJf9KAxpsvOrN9PRpPrk1Y349KCpc57YVLx3+AVLM98JM2b7b/APvVQO3qiXP1Z247rv6gM7z7tICc3IqAjm/EeOezpc/XuOp8CJ+H8d9met5lb6OPzLj0efV8yqMAA+iqKiiafFq9/wDUVNPOr3/1AaVAD6ZnOIrGnTdOZLt92tMxMZyDSTgICgAAAAAAgKgAM241ffts0lznMBUvAAzf8ZzZ77tZzwz9Vtx9F/j/ALaBnX9M31cQmMbcGq4nPP2yTaTfIKgAgAI5uv5nw6Xn1OlNdzaI8uh477MdXzK6NHT06LmZc/V8yqMAA+iAiqk5vuqTxUGhFAkxMZyrGqardriYXH+Vz3gNEJMRJ39wUABUAVAAAABAVm4vOZhWbbpu/hvf0BoSXMz6qDMurPbfsqW4smLj1UGdePp3mYaZJxLPtattl33n9JnNkgKCAJZOaqX3wCbWcShvjmYAHJ1fMrqcvV8yrEYAB9BUVFCeO+0/2JPHfaf7BpUALnGyT6pN9X7tJj6rLm4wDSTm+5Nok5vuDQgCiAKgAAAAAJdWOwAqACW3tFSXPFM7gqAAgluAVm9sY+S2+i9twZs1bcbVfhmzMmd/doEcvV8yupy9XzKsRgAH0AEVUnjvtP8Aap+r4BoRQLJU06cXvjtuqSXbe8A0mnnV7qzp51e4NAAAgKIAqAAAAlmbjsrNu+LmemAWbbfsqTYBLJff1JMGq2TaAKgAJq0zVMVUBJpxcqAjO3pzzsdtk+c4UUcvV8yupy9XzKsRgAHeqKih+r4E/V8A0ACpdemXF1SfKs5luZeKDRO/uAAAAAAgCoAAAAhZkCW3mCSy7ZyoJ9Vl3m3urOrwrJibZBUAAAQQATfjES3H3tVNXb0Ac3V8yunhzdXzKowADvARVT9XwH6vgFVAC3HbMMabvyqXTvmbUFzviHekmEnioKAAAAIAqAAAAdkAT4xWkAZunNzK12S++CcbgoICoAAIAg8up1Lp1Ykgj1c3V8yvXp9S67ZZHl1fMqjAAO5UVFC87gBmXik1T7/sKCZueKub2n8gBv2wT1oAAAAgKIAqAAAAAAIAXHdJJMeqpMdpsIoAoIAAgg8Ot4/h7ufreP4UXoeK+zPV8ytdDms9Tx0GAAdwCKogCgCAAAAoAICAqiAioAAAoAACAqSYmAAAABBAABz9bx/D3ePVmdfwovR51PPX477vTo/qeevx33BkAHaAiqIAoAAAAAAAAgCiAKIAqAAAAAACCKJdUnNjP5mn/lAaHneto9UvXnaVR6jwvXvaJetq+wPd5dTRq1atuHn+Zr9Uuq3m0Hton0Zuqx46rnVb6oAAA7FRUUAAAAAADLP16f8AlP3EaGL1dHql62n70HoPG9edtNS9e9pFHuOa9bX9k/N1+oOpLZOXL9Wq/qv7sg67r0z9US9XRO7lAdF62n7pev6af5eAD1/P1ekT87X6vMBq9TXf1VLbebagAAAAAAAAAAAAD//Z'"
      ]
     },
     "execution_count": 43,
     "metadata": {},
     "output_type": "execute_result"
    }
   ],
   "source": [
    "image_data_real"
   ]
  },
  {
   "cell_type": "code",
   "execution_count": 30,
   "metadata": {},
   "outputs": [],
   "source": [
    "class query(BaseModel):\n",
    "    is_location: bool = Field(description=\"is the picture at the location\")"
   ]
  },
  {
   "cell_type": "code",
   "execution_count": 40,
   "metadata": {},
   "outputs": [
    {
     "ename": "InstructorRetryException",
     "evalue": "RetryError[<Future at 0x109de4cd0 state=finished raised BadRequestError>]",
     "output_type": "error",
     "traceback": [
      "\u001b[0;31m---------------------------------------------------------------------------\u001b[0m",
      "\u001b[0;31mBadRequestError\u001b[0m                           Traceback (most recent call last)",
      "File \u001b[0;32m~/Documents/GitHub/cityquest/backend/.venv/lib/python3.10/site-packages/instructor/retry.py:180\u001b[0m, in \u001b[0;36mretry_sync\u001b[0;34m(func, response_model, validation_context, args, kwargs, max_retries, strict, mode)\u001b[0m\n\u001b[1;32m    179\u001b[0m \u001b[38;5;28;01mtry\u001b[39;00m:\n\u001b[0;32m--> 180\u001b[0m     response \u001b[38;5;241m=\u001b[39m \u001b[43mfunc\u001b[49m\u001b[43m(\u001b[49m\u001b[38;5;241;43m*\u001b[39;49m\u001b[43margs\u001b[49m\u001b[43m,\u001b[49m\u001b[43m \u001b[49m\u001b[38;5;241;43m*\u001b[39;49m\u001b[38;5;241;43m*\u001b[39;49m\u001b[43mkwargs\u001b[49m\u001b[43m)\u001b[49m\n\u001b[1;32m    181\u001b[0m     stream \u001b[38;5;241m=\u001b[39m kwargs\u001b[38;5;241m.\u001b[39mget(\u001b[38;5;124m\"\u001b[39m\u001b[38;5;124mstream\u001b[39m\u001b[38;5;124m\"\u001b[39m, \u001b[38;5;28;01mFalse\u001b[39;00m)\n",
      "File \u001b[0;32m~/Documents/GitHub/cityquest/backend/.venv/lib/python3.10/site-packages/openai/_utils/_utils.py:274\u001b[0m, in \u001b[0;36mrequired_args.<locals>.inner.<locals>.wrapper\u001b[0;34m(*args, **kwargs)\u001b[0m\n\u001b[1;32m    273\u001b[0m     \u001b[38;5;28;01mraise\u001b[39;00m \u001b[38;5;167;01mTypeError\u001b[39;00m(msg)\n\u001b[0;32m--> 274\u001b[0m \u001b[38;5;28;01mreturn\u001b[39;00m \u001b[43mfunc\u001b[49m\u001b[43m(\u001b[49m\u001b[38;5;241;43m*\u001b[39;49m\u001b[43margs\u001b[49m\u001b[43m,\u001b[49m\u001b[43m \u001b[49m\u001b[38;5;241;43m*\u001b[39;49m\u001b[38;5;241;43m*\u001b[39;49m\u001b[43mkwargs\u001b[49m\u001b[43m)\u001b[49m\n",
      "File \u001b[0;32m~/Documents/GitHub/cityquest/backend/.venv/lib/python3.10/site-packages/openai/resources/chat/completions.py:704\u001b[0m, in \u001b[0;36mCompletions.create\u001b[0;34m(self, messages, model, frequency_penalty, function_call, functions, logit_bias, logprobs, max_completion_tokens, max_tokens, n, parallel_tool_calls, presence_penalty, response_format, seed, service_tier, stop, stream, stream_options, temperature, tool_choice, tools, top_logprobs, top_p, user, extra_headers, extra_query, extra_body, timeout)\u001b[0m\n\u001b[1;32m    703\u001b[0m validate_response_format(response_format)\n\u001b[0;32m--> 704\u001b[0m \u001b[38;5;28;01mreturn\u001b[39;00m \u001b[38;5;28;43mself\u001b[39;49m\u001b[38;5;241;43m.\u001b[39;49m\u001b[43m_post\u001b[49m\u001b[43m(\u001b[49m\n\u001b[1;32m    705\u001b[0m \u001b[43m    \u001b[49m\u001b[38;5;124;43m\"\u001b[39;49m\u001b[38;5;124;43m/chat/completions\u001b[39;49m\u001b[38;5;124;43m\"\u001b[39;49m\u001b[43m,\u001b[49m\n\u001b[1;32m    706\u001b[0m \u001b[43m    \u001b[49m\u001b[43mbody\u001b[49m\u001b[38;5;241;43m=\u001b[39;49m\u001b[43mmaybe_transform\u001b[49m\u001b[43m(\u001b[49m\n\u001b[1;32m    707\u001b[0m \u001b[43m        \u001b[49m\u001b[43m{\u001b[49m\n\u001b[1;32m    708\u001b[0m \u001b[43m            \u001b[49m\u001b[38;5;124;43m\"\u001b[39;49m\u001b[38;5;124;43mmessages\u001b[39;49m\u001b[38;5;124;43m\"\u001b[39;49m\u001b[43m:\u001b[49m\u001b[43m \u001b[49m\u001b[43mmessages\u001b[49m\u001b[43m,\u001b[49m\n\u001b[1;32m    709\u001b[0m \u001b[43m            \u001b[49m\u001b[38;5;124;43m\"\u001b[39;49m\u001b[38;5;124;43mmodel\u001b[39;49m\u001b[38;5;124;43m\"\u001b[39;49m\u001b[43m:\u001b[49m\u001b[43m \u001b[49m\u001b[43mmodel\u001b[49m\u001b[43m,\u001b[49m\n\u001b[1;32m    710\u001b[0m \u001b[43m            \u001b[49m\u001b[38;5;124;43m\"\u001b[39;49m\u001b[38;5;124;43mfrequency_penalty\u001b[39;49m\u001b[38;5;124;43m\"\u001b[39;49m\u001b[43m:\u001b[49m\u001b[43m \u001b[49m\u001b[43mfrequency_penalty\u001b[49m\u001b[43m,\u001b[49m\n\u001b[1;32m    711\u001b[0m \u001b[43m            \u001b[49m\u001b[38;5;124;43m\"\u001b[39;49m\u001b[38;5;124;43mfunction_call\u001b[39;49m\u001b[38;5;124;43m\"\u001b[39;49m\u001b[43m:\u001b[49m\u001b[43m \u001b[49m\u001b[43mfunction_call\u001b[49m\u001b[43m,\u001b[49m\n\u001b[1;32m    712\u001b[0m \u001b[43m            \u001b[49m\u001b[38;5;124;43m\"\u001b[39;49m\u001b[38;5;124;43mfunctions\u001b[39;49m\u001b[38;5;124;43m\"\u001b[39;49m\u001b[43m:\u001b[49m\u001b[43m \u001b[49m\u001b[43mfunctions\u001b[49m\u001b[43m,\u001b[49m\n\u001b[1;32m    713\u001b[0m \u001b[43m            \u001b[49m\u001b[38;5;124;43m\"\u001b[39;49m\u001b[38;5;124;43mlogit_bias\u001b[39;49m\u001b[38;5;124;43m\"\u001b[39;49m\u001b[43m:\u001b[49m\u001b[43m \u001b[49m\u001b[43mlogit_bias\u001b[49m\u001b[43m,\u001b[49m\n\u001b[1;32m    714\u001b[0m \u001b[43m            \u001b[49m\u001b[38;5;124;43m\"\u001b[39;49m\u001b[38;5;124;43mlogprobs\u001b[39;49m\u001b[38;5;124;43m\"\u001b[39;49m\u001b[43m:\u001b[49m\u001b[43m \u001b[49m\u001b[43mlogprobs\u001b[49m\u001b[43m,\u001b[49m\n\u001b[1;32m    715\u001b[0m \u001b[43m            \u001b[49m\u001b[38;5;124;43m\"\u001b[39;49m\u001b[38;5;124;43mmax_completion_tokens\u001b[39;49m\u001b[38;5;124;43m\"\u001b[39;49m\u001b[43m:\u001b[49m\u001b[43m \u001b[49m\u001b[43mmax_completion_tokens\u001b[49m\u001b[43m,\u001b[49m\n\u001b[1;32m    716\u001b[0m \u001b[43m            \u001b[49m\u001b[38;5;124;43m\"\u001b[39;49m\u001b[38;5;124;43mmax_tokens\u001b[39;49m\u001b[38;5;124;43m\"\u001b[39;49m\u001b[43m:\u001b[49m\u001b[43m \u001b[49m\u001b[43mmax_tokens\u001b[49m\u001b[43m,\u001b[49m\n\u001b[1;32m    717\u001b[0m \u001b[43m            \u001b[49m\u001b[38;5;124;43m\"\u001b[39;49m\u001b[38;5;124;43mn\u001b[39;49m\u001b[38;5;124;43m\"\u001b[39;49m\u001b[43m:\u001b[49m\u001b[43m \u001b[49m\u001b[43mn\u001b[49m\u001b[43m,\u001b[49m\n\u001b[1;32m    718\u001b[0m \u001b[43m            \u001b[49m\u001b[38;5;124;43m\"\u001b[39;49m\u001b[38;5;124;43mparallel_tool_calls\u001b[39;49m\u001b[38;5;124;43m\"\u001b[39;49m\u001b[43m:\u001b[49m\u001b[43m \u001b[49m\u001b[43mparallel_tool_calls\u001b[49m\u001b[43m,\u001b[49m\n\u001b[1;32m    719\u001b[0m \u001b[43m            \u001b[49m\u001b[38;5;124;43m\"\u001b[39;49m\u001b[38;5;124;43mpresence_penalty\u001b[39;49m\u001b[38;5;124;43m\"\u001b[39;49m\u001b[43m:\u001b[49m\u001b[43m \u001b[49m\u001b[43mpresence_penalty\u001b[49m\u001b[43m,\u001b[49m\n\u001b[1;32m    720\u001b[0m \u001b[43m            \u001b[49m\u001b[38;5;124;43m\"\u001b[39;49m\u001b[38;5;124;43mresponse_format\u001b[39;49m\u001b[38;5;124;43m\"\u001b[39;49m\u001b[43m:\u001b[49m\u001b[43m \u001b[49m\u001b[43mresponse_format\u001b[49m\u001b[43m,\u001b[49m\n\u001b[1;32m    721\u001b[0m \u001b[43m            \u001b[49m\u001b[38;5;124;43m\"\u001b[39;49m\u001b[38;5;124;43mseed\u001b[39;49m\u001b[38;5;124;43m\"\u001b[39;49m\u001b[43m:\u001b[49m\u001b[43m \u001b[49m\u001b[43mseed\u001b[49m\u001b[43m,\u001b[49m\n\u001b[1;32m    722\u001b[0m \u001b[43m            \u001b[49m\u001b[38;5;124;43m\"\u001b[39;49m\u001b[38;5;124;43mservice_tier\u001b[39;49m\u001b[38;5;124;43m\"\u001b[39;49m\u001b[43m:\u001b[49m\u001b[43m \u001b[49m\u001b[43mservice_tier\u001b[49m\u001b[43m,\u001b[49m\n\u001b[1;32m    723\u001b[0m \u001b[43m            \u001b[49m\u001b[38;5;124;43m\"\u001b[39;49m\u001b[38;5;124;43mstop\u001b[39;49m\u001b[38;5;124;43m\"\u001b[39;49m\u001b[43m:\u001b[49m\u001b[43m \u001b[49m\u001b[43mstop\u001b[49m\u001b[43m,\u001b[49m\n\u001b[1;32m    724\u001b[0m \u001b[43m            \u001b[49m\u001b[38;5;124;43m\"\u001b[39;49m\u001b[38;5;124;43mstream\u001b[39;49m\u001b[38;5;124;43m\"\u001b[39;49m\u001b[43m:\u001b[49m\u001b[43m \u001b[49m\u001b[43mstream\u001b[49m\u001b[43m,\u001b[49m\n\u001b[1;32m    725\u001b[0m \u001b[43m            \u001b[49m\u001b[38;5;124;43m\"\u001b[39;49m\u001b[38;5;124;43mstream_options\u001b[39;49m\u001b[38;5;124;43m\"\u001b[39;49m\u001b[43m:\u001b[49m\u001b[43m \u001b[49m\u001b[43mstream_options\u001b[49m\u001b[43m,\u001b[49m\n\u001b[1;32m    726\u001b[0m \u001b[43m            \u001b[49m\u001b[38;5;124;43m\"\u001b[39;49m\u001b[38;5;124;43mtemperature\u001b[39;49m\u001b[38;5;124;43m\"\u001b[39;49m\u001b[43m:\u001b[49m\u001b[43m \u001b[49m\u001b[43mtemperature\u001b[49m\u001b[43m,\u001b[49m\n\u001b[1;32m    727\u001b[0m \u001b[43m            \u001b[49m\u001b[38;5;124;43m\"\u001b[39;49m\u001b[38;5;124;43mtool_choice\u001b[39;49m\u001b[38;5;124;43m\"\u001b[39;49m\u001b[43m:\u001b[49m\u001b[43m \u001b[49m\u001b[43mtool_choice\u001b[49m\u001b[43m,\u001b[49m\n\u001b[1;32m    728\u001b[0m \u001b[43m            \u001b[49m\u001b[38;5;124;43m\"\u001b[39;49m\u001b[38;5;124;43mtools\u001b[39;49m\u001b[38;5;124;43m\"\u001b[39;49m\u001b[43m:\u001b[49m\u001b[43m \u001b[49m\u001b[43mtools\u001b[49m\u001b[43m,\u001b[49m\n\u001b[1;32m    729\u001b[0m \u001b[43m            \u001b[49m\u001b[38;5;124;43m\"\u001b[39;49m\u001b[38;5;124;43mtop_logprobs\u001b[39;49m\u001b[38;5;124;43m\"\u001b[39;49m\u001b[43m:\u001b[49m\u001b[43m \u001b[49m\u001b[43mtop_logprobs\u001b[49m\u001b[43m,\u001b[49m\n\u001b[1;32m    730\u001b[0m \u001b[43m            \u001b[49m\u001b[38;5;124;43m\"\u001b[39;49m\u001b[38;5;124;43mtop_p\u001b[39;49m\u001b[38;5;124;43m\"\u001b[39;49m\u001b[43m:\u001b[49m\u001b[43m \u001b[49m\u001b[43mtop_p\u001b[49m\u001b[43m,\u001b[49m\n\u001b[1;32m    731\u001b[0m \u001b[43m            \u001b[49m\u001b[38;5;124;43m\"\u001b[39;49m\u001b[38;5;124;43muser\u001b[39;49m\u001b[38;5;124;43m\"\u001b[39;49m\u001b[43m:\u001b[49m\u001b[43m \u001b[49m\u001b[43muser\u001b[49m\u001b[43m,\u001b[49m\n\u001b[1;32m    732\u001b[0m \u001b[43m        \u001b[49m\u001b[43m}\u001b[49m\u001b[43m,\u001b[49m\n\u001b[1;32m    733\u001b[0m \u001b[43m        \u001b[49m\u001b[43mcompletion_create_params\u001b[49m\u001b[38;5;241;43m.\u001b[39;49m\u001b[43mCompletionCreateParams\u001b[49m\u001b[43m,\u001b[49m\n\u001b[1;32m    734\u001b[0m \u001b[43m    \u001b[49m\u001b[43m)\u001b[49m\u001b[43m,\u001b[49m\n\u001b[1;32m    735\u001b[0m \u001b[43m    \u001b[49m\u001b[43moptions\u001b[49m\u001b[38;5;241;43m=\u001b[39;49m\u001b[43mmake_request_options\u001b[49m\u001b[43m(\u001b[49m\n\u001b[1;32m    736\u001b[0m \u001b[43m        \u001b[49m\u001b[43mextra_headers\u001b[49m\u001b[38;5;241;43m=\u001b[39;49m\u001b[43mextra_headers\u001b[49m\u001b[43m,\u001b[49m\u001b[43m \u001b[49m\u001b[43mextra_query\u001b[49m\u001b[38;5;241;43m=\u001b[39;49m\u001b[43mextra_query\u001b[49m\u001b[43m,\u001b[49m\u001b[43m \u001b[49m\u001b[43mextra_body\u001b[49m\u001b[38;5;241;43m=\u001b[39;49m\u001b[43mextra_body\u001b[49m\u001b[43m,\u001b[49m\u001b[43m \u001b[49m\u001b[43mtimeout\u001b[49m\u001b[38;5;241;43m=\u001b[39;49m\u001b[43mtimeout\u001b[49m\n\u001b[1;32m    737\u001b[0m \u001b[43m    \u001b[49m\u001b[43m)\u001b[49m\u001b[43m,\u001b[49m\n\u001b[1;32m    738\u001b[0m \u001b[43m    \u001b[49m\u001b[43mcast_to\u001b[49m\u001b[38;5;241;43m=\u001b[39;49m\u001b[43mChatCompletion\u001b[49m\u001b[43m,\u001b[49m\n\u001b[1;32m    739\u001b[0m \u001b[43m    \u001b[49m\u001b[43mstream\u001b[49m\u001b[38;5;241;43m=\u001b[39;49m\u001b[43mstream\u001b[49m\u001b[43m \u001b[49m\u001b[38;5;129;43;01mor\u001b[39;49;00m\u001b[43m \u001b[49m\u001b[38;5;28;43;01mFalse\u001b[39;49;00m\u001b[43m,\u001b[49m\n\u001b[1;32m    740\u001b[0m \u001b[43m    \u001b[49m\u001b[43mstream_cls\u001b[49m\u001b[38;5;241;43m=\u001b[39;49m\u001b[43mStream\u001b[49m\u001b[43m[\u001b[49m\u001b[43mChatCompletionChunk\u001b[49m\u001b[43m]\u001b[49m\u001b[43m,\u001b[49m\n\u001b[1;32m    741\u001b[0m \u001b[43m\u001b[49m\u001b[43m)\u001b[49m\n",
      "File \u001b[0;32m~/Documents/GitHub/cityquest/backend/.venv/lib/python3.10/site-packages/openai/_base_client.py:1268\u001b[0m, in \u001b[0;36mSyncAPIClient.post\u001b[0;34m(self, path, cast_to, body, options, files, stream, stream_cls)\u001b[0m\n\u001b[1;32m   1265\u001b[0m opts \u001b[38;5;241m=\u001b[39m FinalRequestOptions\u001b[38;5;241m.\u001b[39mconstruct(\n\u001b[1;32m   1266\u001b[0m     method\u001b[38;5;241m=\u001b[39m\u001b[38;5;124m\"\u001b[39m\u001b[38;5;124mpost\u001b[39m\u001b[38;5;124m\"\u001b[39m, url\u001b[38;5;241m=\u001b[39mpath, json_data\u001b[38;5;241m=\u001b[39mbody, files\u001b[38;5;241m=\u001b[39mto_httpx_files(files), \u001b[38;5;241m*\u001b[39m\u001b[38;5;241m*\u001b[39moptions\n\u001b[1;32m   1267\u001b[0m )\n\u001b[0;32m-> 1268\u001b[0m \u001b[38;5;28;01mreturn\u001b[39;00m cast(ResponseT, \u001b[38;5;28;43mself\u001b[39;49m\u001b[38;5;241;43m.\u001b[39;49m\u001b[43mrequest\u001b[49m\u001b[43m(\u001b[49m\u001b[43mcast_to\u001b[49m\u001b[43m,\u001b[49m\u001b[43m \u001b[49m\u001b[43mopts\u001b[49m\u001b[43m,\u001b[49m\u001b[43m \u001b[49m\u001b[43mstream\u001b[49m\u001b[38;5;241;43m=\u001b[39;49m\u001b[43mstream\u001b[49m\u001b[43m,\u001b[49m\u001b[43m \u001b[49m\u001b[43mstream_cls\u001b[49m\u001b[38;5;241;43m=\u001b[39;49m\u001b[43mstream_cls\u001b[49m\u001b[43m)\u001b[49m)\n",
      "File \u001b[0;32m~/Documents/GitHub/cityquest/backend/.venv/lib/python3.10/site-packages/openai/_base_client.py:945\u001b[0m, in \u001b[0;36mSyncAPIClient.request\u001b[0;34m(self, cast_to, options, remaining_retries, stream, stream_cls)\u001b[0m\n\u001b[1;32m    943\u001b[0m     retries_taken \u001b[38;5;241m=\u001b[39m \u001b[38;5;241m0\u001b[39m\n\u001b[0;32m--> 945\u001b[0m \u001b[38;5;28;01mreturn\u001b[39;00m \u001b[38;5;28;43mself\u001b[39;49m\u001b[38;5;241;43m.\u001b[39;49m\u001b[43m_request\u001b[49m\u001b[43m(\u001b[49m\n\u001b[1;32m    946\u001b[0m \u001b[43m    \u001b[49m\u001b[43mcast_to\u001b[49m\u001b[38;5;241;43m=\u001b[39;49m\u001b[43mcast_to\u001b[49m\u001b[43m,\u001b[49m\n\u001b[1;32m    947\u001b[0m \u001b[43m    \u001b[49m\u001b[43moptions\u001b[49m\u001b[38;5;241;43m=\u001b[39;49m\u001b[43moptions\u001b[49m\u001b[43m,\u001b[49m\n\u001b[1;32m    948\u001b[0m \u001b[43m    \u001b[49m\u001b[43mstream\u001b[49m\u001b[38;5;241;43m=\u001b[39;49m\u001b[43mstream\u001b[49m\u001b[43m,\u001b[49m\n\u001b[1;32m    949\u001b[0m \u001b[43m    \u001b[49m\u001b[43mstream_cls\u001b[49m\u001b[38;5;241;43m=\u001b[39;49m\u001b[43mstream_cls\u001b[49m\u001b[43m,\u001b[49m\n\u001b[1;32m    950\u001b[0m \u001b[43m    \u001b[49m\u001b[43mretries_taken\u001b[49m\u001b[38;5;241;43m=\u001b[39;49m\u001b[43mretries_taken\u001b[49m\u001b[43m,\u001b[49m\n\u001b[1;32m    951\u001b[0m \u001b[43m\u001b[49m\u001b[43m)\u001b[49m\n",
      "File \u001b[0;32m~/Documents/GitHub/cityquest/backend/.venv/lib/python3.10/site-packages/openai/_base_client.py:1049\u001b[0m, in \u001b[0;36mSyncAPIClient._request\u001b[0;34m(self, cast_to, options, retries_taken, stream, stream_cls)\u001b[0m\n\u001b[1;32m   1048\u001b[0m     log\u001b[38;5;241m.\u001b[39mdebug(\u001b[38;5;124m\"\u001b[39m\u001b[38;5;124mRe-raising status error\u001b[39m\u001b[38;5;124m\"\u001b[39m)\n\u001b[0;32m-> 1049\u001b[0m     \u001b[38;5;28;01mraise\u001b[39;00m \u001b[38;5;28mself\u001b[39m\u001b[38;5;241m.\u001b[39m_make_status_error_from_response(err\u001b[38;5;241m.\u001b[39mresponse) \u001b[38;5;28;01mfrom\u001b[39;00m \u001b[38;5;28;01mNone\u001b[39;00m\n\u001b[1;32m   1051\u001b[0m \u001b[38;5;28;01mreturn\u001b[39;00m \u001b[38;5;28mself\u001b[39m\u001b[38;5;241m.\u001b[39m_process_response(\n\u001b[1;32m   1052\u001b[0m     cast_to\u001b[38;5;241m=\u001b[39mcast_to,\n\u001b[1;32m   1053\u001b[0m     options\u001b[38;5;241m=\u001b[39moptions,\n\u001b[0;32m   (...)\u001b[0m\n\u001b[1;32m   1057\u001b[0m     retries_taken\u001b[38;5;241m=\u001b[39mretries_taken,\n\u001b[1;32m   1058\u001b[0m )\n",
      "\u001b[0;31mBadRequestError\u001b[0m: Error code: 400 - {'error': {'message': 'Invalid base64 image_url.', 'type': 'invalid_request_error', 'param': None, 'code': 'invalid_base64'}}",
      "\nThe above exception was the direct cause of the following exception:\n",
      "\u001b[0;31mRetryError\u001b[0m                                Traceback (most recent call last)",
      "File \u001b[0;32m~/Documents/GitHub/cityquest/backend/.venv/lib/python3.10/site-packages/instructor/retry.py:177\u001b[0m, in \u001b[0;36mretry_sync\u001b[0;34m(func, response_model, validation_context, args, kwargs, max_retries, strict, mode)\u001b[0m\n\u001b[1;32m    176\u001b[0m response \u001b[38;5;241m=\u001b[39m \u001b[38;5;28;01mNone\u001b[39;00m\n\u001b[0;32m--> 177\u001b[0m \u001b[38;5;28;01mfor\u001b[39;00m attempt \u001b[38;5;129;01min\u001b[39;00m max_retries:\n\u001b[1;32m    178\u001b[0m     \u001b[38;5;28;01mwith\u001b[39;00m attempt:\n",
      "File \u001b[0;32m~/Documents/GitHub/cityquest/backend/.venv/lib/python3.10/site-packages/tenacity/__init__.py:443\u001b[0m, in \u001b[0;36mBaseRetrying.__iter__\u001b[0;34m(self)\u001b[0m\n\u001b[1;32m    442\u001b[0m \u001b[38;5;28;01mwhile\u001b[39;00m \u001b[38;5;28;01mTrue\u001b[39;00m:\n\u001b[0;32m--> 443\u001b[0m     do \u001b[38;5;241m=\u001b[39m \u001b[38;5;28;43mself\u001b[39;49m\u001b[38;5;241;43m.\u001b[39;49m\u001b[43miter\u001b[49m\u001b[43m(\u001b[49m\u001b[43mretry_state\u001b[49m\u001b[38;5;241;43m=\u001b[39;49m\u001b[43mretry_state\u001b[49m\u001b[43m)\u001b[49m\n\u001b[1;32m    444\u001b[0m     \u001b[38;5;28;01mif\u001b[39;00m \u001b[38;5;28misinstance\u001b[39m(do, DoAttempt):\n",
      "File \u001b[0;32m~/Documents/GitHub/cityquest/backend/.venv/lib/python3.10/site-packages/tenacity/__init__.py:376\u001b[0m, in \u001b[0;36mBaseRetrying.iter\u001b[0;34m(self, retry_state)\u001b[0m\n\u001b[1;32m    375\u001b[0m \u001b[38;5;28;01mfor\u001b[39;00m action \u001b[38;5;129;01min\u001b[39;00m \u001b[38;5;28mself\u001b[39m\u001b[38;5;241m.\u001b[39miter_state\u001b[38;5;241m.\u001b[39mactions:\n\u001b[0;32m--> 376\u001b[0m     result \u001b[38;5;241m=\u001b[39m \u001b[43maction\u001b[49m\u001b[43m(\u001b[49m\u001b[43mretry_state\u001b[49m\u001b[43m)\u001b[49m\n\u001b[1;32m    377\u001b[0m \u001b[38;5;28;01mreturn\u001b[39;00m result\n",
      "File \u001b[0;32m~/Documents/GitHub/cityquest/backend/.venv/lib/python3.10/site-packages/tenacity/__init__.py:419\u001b[0m, in \u001b[0;36mBaseRetrying._post_stop_check_actions.<locals>.exc_check\u001b[0;34m(rs)\u001b[0m\n\u001b[1;32m    418\u001b[0m     \u001b[38;5;28;01mraise\u001b[39;00m retry_exc\u001b[38;5;241m.\u001b[39mreraise()\n\u001b[0;32m--> 419\u001b[0m \u001b[38;5;28;01mraise\u001b[39;00m retry_exc \u001b[38;5;28;01mfrom\u001b[39;00m \u001b[38;5;21;01mfut\u001b[39;00m\u001b[38;5;21;01m.\u001b[39;00m\u001b[38;5;21;01mexception\u001b[39;00m()\n",
      "\u001b[0;31mRetryError\u001b[0m: RetryError[<Future at 0x109de4cd0 state=finished raised BadRequestError>]",
      "\nThe above exception was the direct cause of the following exception:\n",
      "\u001b[0;31mInstructorRetryException\u001b[0m                  Traceback (most recent call last)",
      "Cell \u001b[0;32mIn[40], line 1\u001b[0m\n\u001b[0;32m----> 1\u001b[0m response \u001b[38;5;241m=\u001b[39m \u001b[43mclientOA\u001b[49m\u001b[38;5;241;43m.\u001b[39;49m\u001b[43mchat\u001b[49m\u001b[38;5;241;43m.\u001b[39;49m\u001b[43mcompletions\u001b[49m\u001b[38;5;241;43m.\u001b[39;49m\u001b[43mcreate\u001b[49m\u001b[43m(\u001b[49m\n\u001b[1;32m      2\u001b[0m \u001b[43m    \u001b[49m\u001b[43mmodel\u001b[49m\u001b[38;5;241;43m=\u001b[39;49m\u001b[38;5;124;43m\"\u001b[39;49m\u001b[38;5;124;43mgpt-4o-mini\u001b[39;49m\u001b[38;5;124;43m\"\u001b[39;49m\u001b[43m,\u001b[49m\n\u001b[1;32m      3\u001b[0m \u001b[43m    \u001b[49m\u001b[43mmessages\u001b[49m\u001b[38;5;241;43m=\u001b[39;49m\u001b[43m[\u001b[49m\n\u001b[1;32m      4\u001b[0m \u001b[43m        \u001b[49m\u001b[43m{\u001b[49m\n\u001b[1;32m      5\u001b[0m \u001b[43m            \u001b[49m\u001b[38;5;124;43m\"\u001b[39;49m\u001b[38;5;124;43mrole\u001b[39;49m\u001b[38;5;124;43m\"\u001b[39;49m\u001b[43m:\u001b[49m\u001b[43m \u001b[49m\u001b[38;5;124;43m\"\u001b[39;49m\u001b[38;5;124;43muser\u001b[39;49m\u001b[38;5;124;43m\"\u001b[39;49m\u001b[43m,\u001b[49m\n\u001b[1;32m      6\u001b[0m \u001b[43m            \u001b[49m\u001b[38;5;124;43m\"\u001b[39;49m\u001b[38;5;124;43mcontent\u001b[39;49m\u001b[38;5;124;43m\"\u001b[39;49m\u001b[43m:\u001b[49m\u001b[43m \u001b[49m\u001b[43m[\u001b[49m\n\u001b[1;32m      7\u001b[0m \u001b[43m                \u001b[49m\u001b[43m{\u001b[49m\u001b[38;5;124;43m\"\u001b[39;49m\u001b[38;5;124;43mtype\u001b[39;49m\u001b[38;5;124;43m\"\u001b[39;49m\u001b[43m:\u001b[49m\u001b[43m \u001b[49m\u001b[38;5;124;43m\"\u001b[39;49m\u001b[38;5;124;43mtext\u001b[39;49m\u001b[38;5;124;43m\"\u001b[39;49m\u001b[43m,\u001b[49m\u001b[43m \u001b[49m\u001b[38;5;124;43m\"\u001b[39;49m\u001b[38;5;124;43mtext\u001b[39;49m\u001b[38;5;124;43m\"\u001b[39;49m\u001b[43m:\u001b[49m\u001b[43m \u001b[49m\u001b[38;5;124;43m'\u001b[39;49m\u001b[38;5;124;43mis this the eiffel tower?\u001b[39;49m\u001b[38;5;124;43m'\u001b[39;49m\u001b[43m}\u001b[49m\u001b[43m,\u001b[49m\n\u001b[1;32m      8\u001b[0m \u001b[43m                \u001b[49m\u001b[43m{\u001b[49m\n\u001b[1;32m      9\u001b[0m \u001b[43m                    \u001b[49m\u001b[38;5;124;43m\"\u001b[39;49m\u001b[38;5;124;43mtype\u001b[39;49m\u001b[38;5;124;43m\"\u001b[39;49m\u001b[43m:\u001b[49m\u001b[43m \u001b[49m\u001b[38;5;124;43m\"\u001b[39;49m\u001b[38;5;124;43mimage_url\u001b[39;49m\u001b[38;5;124;43m\"\u001b[39;49m\u001b[43m,\u001b[49m\n\u001b[1;32m     10\u001b[0m \u001b[43m                    \u001b[49m\u001b[38;5;124;43m\"\u001b[39;49m\u001b[38;5;124;43mimage_url\u001b[39;49m\u001b[38;5;124;43m\"\u001b[39;49m\u001b[43m:\u001b[49m\u001b[43m \u001b[49m\u001b[43m{\u001b[49m\u001b[38;5;124;43m\"\u001b[39;49m\u001b[38;5;124;43murl\u001b[39;49m\u001b[38;5;124;43m\"\u001b[39;49m\u001b[43m:\u001b[49m\u001b[43m \u001b[49m\u001b[38;5;124;43mf\u001b[39;49m\u001b[38;5;124;43m\"\u001b[39;49m\u001b[38;5;124;43mdata:image/jpeg;base64,\u001b[39;49m\u001b[38;5;132;43;01m{\u001b[39;49;00m\u001b[43mimage_data\u001b[49m\u001b[38;5;132;43;01m}\u001b[39;49;00m\u001b[38;5;124;43m\"\u001b[39;49m\u001b[43m}\u001b[49m\u001b[43m,\u001b[49m\n\u001b[1;32m     11\u001b[0m \u001b[43m                \u001b[49m\u001b[43m}\u001b[49m\u001b[43m,\u001b[49m\n\u001b[1;32m     12\u001b[0m \u001b[43m            \u001b[49m\u001b[43m]\u001b[49m\u001b[43m,\u001b[49m\n\u001b[1;32m     13\u001b[0m \u001b[43m        \u001b[49m\u001b[43m}\u001b[49m\n\u001b[1;32m     14\u001b[0m \u001b[43m    \u001b[49m\u001b[43m]\u001b[49m\u001b[43m,\u001b[49m\n\u001b[1;32m     15\u001b[0m \u001b[43m    \u001b[49m\u001b[43mresponse_model\u001b[49m\u001b[38;5;241;43m=\u001b[39;49m\u001b[43mquery\u001b[49m\n\u001b[1;32m     16\u001b[0m \u001b[43m)\u001b[49m\n",
      "File \u001b[0;32m~/Documents/GitHub/cityquest/backend/.venv/lib/python3.10/site-packages/instructor/patch.py:143\u001b[0m, in \u001b[0;36mpatch.<locals>.new_create_sync\u001b[0;34m(response_model, validation_context, max_retries, strict, *args, **kwargs)\u001b[0m\n\u001b[1;32m    131\u001b[0m \u001b[38;5;129m@wraps\u001b[39m(func)\n\u001b[1;32m    132\u001b[0m \u001b[38;5;28;01mdef\u001b[39;00m \u001b[38;5;21mnew_create_sync\u001b[39m(\n\u001b[1;32m    133\u001b[0m     response_model: \u001b[38;5;28mtype\u001b[39m[T_Model] \u001b[38;5;241m=\u001b[39m \u001b[38;5;28;01mNone\u001b[39;00m,\n\u001b[0;32m   (...)\u001b[0m\n\u001b[1;32m    138\u001b[0m     \u001b[38;5;241m*\u001b[39m\u001b[38;5;241m*\u001b[39mkwargs: T_ParamSpec\u001b[38;5;241m.\u001b[39mkwargs,\n\u001b[1;32m    139\u001b[0m ) \u001b[38;5;241m-\u001b[39m\u001b[38;5;241m>\u001b[39m T_Model:\n\u001b[1;32m    140\u001b[0m     response_model, new_kwargs \u001b[38;5;241m=\u001b[39m handle_response_model(\n\u001b[1;32m    141\u001b[0m         response_model\u001b[38;5;241m=\u001b[39mresponse_model, mode\u001b[38;5;241m=\u001b[39mmode, \u001b[38;5;241m*\u001b[39m\u001b[38;5;241m*\u001b[39mkwargs\n\u001b[1;32m    142\u001b[0m     )\n\u001b[0;32m--> 143\u001b[0m     response \u001b[38;5;241m=\u001b[39m \u001b[43mretry_sync\u001b[49m\u001b[43m(\u001b[49m\n\u001b[1;32m    144\u001b[0m \u001b[43m        \u001b[49m\u001b[43mfunc\u001b[49m\u001b[38;5;241;43m=\u001b[39;49m\u001b[43mfunc\u001b[49m\u001b[43m,\u001b[49m\n\u001b[1;32m    145\u001b[0m \u001b[43m        \u001b[49m\u001b[43mresponse_model\u001b[49m\u001b[38;5;241;43m=\u001b[39;49m\u001b[43mresponse_model\u001b[49m\u001b[43m,\u001b[49m\n\u001b[1;32m    146\u001b[0m \u001b[43m        \u001b[49m\u001b[43mvalidation_context\u001b[49m\u001b[38;5;241;43m=\u001b[39;49m\u001b[43mvalidation_context\u001b[49m\u001b[43m,\u001b[49m\n\u001b[1;32m    147\u001b[0m \u001b[43m        \u001b[49m\u001b[43mmax_retries\u001b[49m\u001b[38;5;241;43m=\u001b[39;49m\u001b[43mmax_retries\u001b[49m\u001b[43m,\u001b[49m\n\u001b[1;32m    148\u001b[0m \u001b[43m        \u001b[49m\u001b[43margs\u001b[49m\u001b[38;5;241;43m=\u001b[39;49m\u001b[43margs\u001b[49m\u001b[43m,\u001b[49m\n\u001b[1;32m    149\u001b[0m \u001b[43m        \u001b[49m\u001b[43mstrict\u001b[49m\u001b[38;5;241;43m=\u001b[39;49m\u001b[43mstrict\u001b[49m\u001b[43m,\u001b[49m\n\u001b[1;32m    150\u001b[0m \u001b[43m        \u001b[49m\u001b[43mkwargs\u001b[49m\u001b[38;5;241;43m=\u001b[39;49m\u001b[43mnew_kwargs\u001b[49m\u001b[43m,\u001b[49m\n\u001b[1;32m    151\u001b[0m \u001b[43m        \u001b[49m\u001b[43mmode\u001b[49m\u001b[38;5;241;43m=\u001b[39;49m\u001b[43mmode\u001b[49m\u001b[43m,\u001b[49m\n\u001b[1;32m    152\u001b[0m \u001b[43m    \u001b[49m\u001b[43m)\u001b[49m\n\u001b[1;32m    153\u001b[0m     \u001b[38;5;28;01mreturn\u001b[39;00m response\n",
      "File \u001b[0;32m~/Documents/GitHub/cityquest/backend/.venv/lib/python3.10/site-packages/instructor/retry.py:215\u001b[0m, in \u001b[0;36mretry_sync\u001b[0;34m(func, response_model, validation_context, args, kwargs, max_retries, strict, mode)\u001b[0m\n\u001b[1;32m    213\u001b[0m                 \u001b[38;5;28;01mraise\u001b[39;00m e\n\u001b[1;32m    214\u001b[0m \u001b[38;5;28;01mexcept\u001b[39;00m RetryError \u001b[38;5;28;01mas\u001b[39;00m e:\n\u001b[0;32m--> 215\u001b[0m     \u001b[38;5;28;01mraise\u001b[39;00m InstructorRetryException(\n\u001b[1;32m    216\u001b[0m         e,\n\u001b[1;32m    217\u001b[0m         last_completion\u001b[38;5;241m=\u001b[39mresponse,\n\u001b[1;32m    218\u001b[0m         n_attempts\u001b[38;5;241m=\u001b[39mattempt\u001b[38;5;241m.\u001b[39mretry_state\u001b[38;5;241m.\u001b[39mattempt_number,\n\u001b[1;32m    219\u001b[0m         messages\u001b[38;5;241m=\u001b[39mkwargs\u001b[38;5;241m.\u001b[39mget(\n\u001b[1;32m    220\u001b[0m             \u001b[38;5;124m\"\u001b[39m\u001b[38;5;124mmessages\u001b[39m\u001b[38;5;124m\"\u001b[39m, kwargs\u001b[38;5;241m.\u001b[39mget(\u001b[38;5;124m\"\u001b[39m\u001b[38;5;124mcontents\u001b[39m\u001b[38;5;124m\"\u001b[39m, kwargs\u001b[38;5;241m.\u001b[39mget(\u001b[38;5;124m\"\u001b[39m\u001b[38;5;124mchat_history\u001b[39m\u001b[38;5;124m\"\u001b[39m, []))\n\u001b[1;32m    221\u001b[0m         ),\n\u001b[1;32m    222\u001b[0m         total_usage\u001b[38;5;241m=\u001b[39mtotal_usage,\n\u001b[1;32m    223\u001b[0m     ) \u001b[38;5;28;01mfrom\u001b[39;00m \u001b[38;5;21;01me\u001b[39;00m\n",
      "\u001b[0;31mInstructorRetryException\u001b[0m: RetryError[<Future at 0x109de4cd0 state=finished raised BadRequestError>]"
     ]
    }
   ],
   "source": [
    "response = clientOA.chat.completions.create(\n",
    "    model=\"gpt-4o-mini\",\n",
    "    messages=[\n",
    "        {\n",
    "            \"role\": \"user\",\n",
    "            \"content\": [\n",
    "                {\"type\": \"text\", \"text\": 'is this the eiffel tower?'},\n",
    "                {\n",
    "                    \"type\": \"image_url\",\n",
    "                    \"image_url\": {\"url\": f\"data:image/jpeg;base64,{image_data}\"},\n",
    "                },\n",
    "            ],\n",
    "        }\n",
    "    ],\n",
    "    response_model=query\n",
    ")"
   ]
  },
  {
   "cell_type": "code",
   "execution_count": 32,
   "metadata": {},
   "outputs": [
    {
     "data": {
      "text/plain": [
       "query(is_location=False)"
      ]
     },
     "execution_count": 32,
     "metadata": {},
     "output_type": "execute_result"
    }
   ],
   "source": [
    "response"
   ]
  },
  {
   "cell_type": "code",
   "execution_count": 33,
   "metadata": {},
   "outputs": [],
   "source": [
    "\n",
    "clientOA = instructor.patch(OpenAI(api_key=os.environ[\"OPENAI_API_KEY\"]))\n",
    "\n",
    "base64_image = image_data\n",
    "\n",
    "\n",
    "class Query(BaseModel):\n",
    "    is_location: bool = Field(description=\"Is the picture at the location\")\n",
    " \n",
    "responseOA = clientOA.chat.completions.create(\n",
    "        model=\"gpt-4o-mini\",\n",
    "        messages=[\n",
    "            {\n",
    "                \"role\": \"user\",\n",
    "                \"content\": [\n",
    "                    {\"type\": \"text\", \"text\": 'is this the eiffel tower?'},\n",
    "                    {\n",
    "                        \"type\": \"image_url\",\n",
    "                        \"image_url\": {\"url\": f\"data:image/jpeg;base64,{base64_image}\"},\n",
    "                    },\n",
    "                ],\n",
    "            }\n",
    "        ],\n",
    "        response_model=Query\n",
    "    )\n"
   ]
  }
 ],
 "metadata": {
  "kernelspec": {
   "display_name": "Python 3",
   "language": "python",
   "name": "python3"
  },
  "language_info": {
   "codemirror_mode": {
    "name": "ipython",
    "version": 3
   },
   "file_extension": ".py",
   "mimetype": "text/x-python",
   "name": "python",
   "nbconvert_exporter": "python",
   "pygments_lexer": "ipython3",
   "version": "3.10.11"
  }
 },
 "nbformat": 4,
 "nbformat_minor": 2
}
